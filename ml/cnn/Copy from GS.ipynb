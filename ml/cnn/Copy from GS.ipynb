{
 "cells": [
  {
   "cell_type": "markdown",
   "metadata": {
    "colab_type": "text",
    "id": "u6N2Gc4xYcpe"
   },
   "source": [
    "# Copiar Datos desde GS a Google Drive\n",
    "Ejecutar esta parte en Google Colab"
   ]
  },
  {
   "cell_type": "code",
   "execution_count": 1,
   "metadata": {
    "colab": {
     "base_uri": "https://localhost:8080/",
     "height": 122
    },
    "colab_type": "code",
    "executionInfo": {
     "elapsed": 89975,
     "status": "ok",
     "timestamp": 1572870549800,
     "user": {
      "displayName": "Alberto Jose Benayas Alamos",
      "photoUrl": "https://lh3.googleusercontent.com/a-/AAuE7mDCSj3xohobtiMw9pws8DJfa69Dtcojufcb0jCImg=s64",
      "userId": "11113370724671368984"
     },
     "user_tz": -60
    },
    "id": "ehvNjxHrYcph",
    "outputId": "71800ecb-5bd3-49d5-e63b-e98b4cd0e7f5"
   },
   "outputs": [
    {
     "name": "stdout",
     "output_type": "stream",
     "text": [
      "Go to this URL in a browser: https://accounts.google.com/o/oauth2/auth?client_id=947318989803-6bn6qk8qdgf4n4g3pfee6491hc0brc4i.apps.googleusercontent.com&redirect_uri=urn%3Aietf%3Awg%3Aoauth%3A2.0%3Aoob&scope=email%20https%3A%2F%2Fwww.googleapis.com%2Fauth%2Fdocs.test%20https%3A%2F%2Fwww.googleapis.com%2Fauth%2Fdrive%20https%3A%2F%2Fwww.googleapis.com%2Fauth%2Fdrive.photos.readonly%20https%3A%2F%2Fwww.googleapis.com%2Fauth%2Fpeopleapi.readonly&response_type=code\n",
      "\n",
      "Enter your authorization code:\n",
      "··········\n",
      "Mounted at /content/drive\n"
     ]
    }
   ],
   "source": [
    "from google.colab import drive\n",
    "drive.mount('/content/drive')"
   ]
  },
  {
   "cell_type": "code",
   "execution_count": 2,
   "metadata": {
    "colab": {
     "base_uri": "https://localhost:8080/",
     "height": 51
    },
    "colab_type": "code",
    "executionInfo": {
     "elapsed": 27449,
     "status": "ok",
     "timestamp": 1572870592951,
     "user": {
      "displayName": "Alberto Jose Benayas Alamos",
      "photoUrl": "https://lh3.googleusercontent.com/a-/AAuE7mDCSj3xohobtiMw9pws8DJfa69Dtcojufcb0jCImg=s64",
      "userId": "11113370724671368984"
     },
     "user_tz": -60
    },
    "id": "eAZ3ITCy9CkF",
    "outputId": "0cbf55bb-5f27-43fc-d0f0-e8a257bde7d8"
   },
   "outputs": [
    {
     "name": "stdout",
     "output_type": "stream",
     "text": [
      "Updated property [core/project].\n",
      "gs://tfmuah2019/\n"
     ]
    }
   ],
   "source": [
    "from google.colab import auth\n",
    "auth.authenticate_user()\n",
    "\n",
    "project_id = 'clean-composite-253713'\n",
    "!gcloud config set project {project_id}\n",
    "!gsutil ls"
   ]
  },
  {
   "cell_type": "code",
   "execution_count": 13,
   "metadata": {
    "colab": {
     "base_uri": "https://localhost:8080/",
     "height": 170
    },
    "colab_type": "code",
    "executionInfo": {
     "elapsed": 17276,
     "status": "ok",
     "timestamp": 1572870845906,
     "user": {
      "displayName": "Alberto Jose Benayas Alamos",
      "photoUrl": "https://lh3.googleusercontent.com/a-/AAuE7mDCSj3xohobtiMw9pws8DJfa69Dtcojufcb0jCImg=s64",
      "userId": "11113370724671368984"
     },
     "user_tz": -60
    },
    "id": "LedBIKNk9kVY",
    "outputId": "0142d29d-019e-4d8a-9b85-ee37df18ad0a"
   },
   "outputs": [
    {
     "name": "stdout",
     "output_type": "stream",
     "text": [
      "Copying gs://tfmuah2019/data/20191026_080650_W100_A30_O20_S2.0/images/part-00030-c0836f3f-9c71-4f13-b3a2-af59c7feb756-c000.csv...\n",
      "Copying gs://tfmuah2019/data/20191026_080650_W100_A30_O20_S2.0/images/part-00038-c0836f3f-9c71-4f13-b3a2-af59c7feb756-c000.csv...\n",
      "Copying gs://tfmuah2019/data/20191026_080650_W100_A30_O20_S2.0/images/part-00033-c0836f3f-9c71-4f13-b3a2-af59c7feb756-c000.csv...\n",
      "Copying gs://tfmuah2019/data/20191026_080650_W100_A30_O20_S2.0/images/part-00031-c0836f3f-9c71-4f13-b3a2-af59c7feb756-c000.csv...\n",
      "/ [0/7 files][    0.0 B/691.6 MiB]   0% Done                                    \r",
      "/ [0/7 files][    0.0 B/691.6 MiB]   0% Done                                    \r",
      "/ [0/7 files][    0.0 B/691.6 MiB]   0% Done                                    \r",
      "/ [0/7 files][    0.0 B/691.6 MiB]   0% Done                                    \r",
      "Copying gs://tfmuah2019/data/20191026_080650_W100_A30_O20_S2.0/images/part-00039-c0836f3f-9c71-4f13-b3a2-af59c7feb756-c000.csv...\n",
      "/ [0/7 files][    0.0 B/691.6 MiB]   0% Done                                    \r",
      "Copying gs://tfmuah2019/data/20191026_080650_W100_A30_O20_S2.0/images/part-00037-c0836f3f-9c71-4f13-b3a2-af59c7feb756-c000.csv...\n",
      "Copying gs://tfmuah2019/data/20191026_080650_W100_A30_O20_S2.0/images/part-00034-c0836f3f-9c71-4f13-b3a2-af59c7feb756-c000.csv...\n",
      "| [7/7 files][691.6 MiB/691.6 MiB] 100% Done  43.4 MiB/s ETA 00:00:00           \n",
      "Operation completed over 7 objects/691.6 MiB.                                    \n"
     ]
    }
   ],
   "source": [
    "bucket_name = 'tfmuah2019/data/20191026_080650_W100_A30_O20_S2.0/images/part-0003*'\n",
    "dest = '/content/drive/My Drive/Colab Notebooks/data'\n",
    "\n",
    "!gsutil -m cp -r  gs://{bucket_name} '/content/drive/My Drive/Colab Notebooks/data'"
   ]
  },
  {
   "cell_type": "markdown",
   "metadata": {
    "colab_type": "text",
    "id": "OKabrcrNYcpz"
   },
   "source": [
    "# Modificar Convertir Datos a Feather (train, validation, test)\n",
    "Ejecutar esta parte en local desde la carpeta en la que esta \"data/\""
   ]
  },
  {
   "cell_type": "code",
   "execution_count": 1,
   "metadata": {
    "colab": {},
    "colab_type": "code",
    "id": "2aPLaM6-Ycp5",
    "outputId": "a5ea0423-87d4-4ce2-b12d-775b8a63de6b"
   },
   "outputs": [
    {
     "name": "stderr",
     "output_type": "stream",
     "text": [
      "Using TensorFlow backend.\n"
     ]
    }
   ],
   "source": [
    "import functions as func\n",
    "import datasets\n",
    "import pandas as pd\n",
    "import numpy as np\n",
    "import glob"
   ]
  },
  {
   "cell_type": "code",
   "execution_count": 2,
   "metadata": {
    "colab": {},
    "colab_type": "code",
    "id": "QQWn6H6WYcp_",
    "outputId": "a53b6026-b7e2-4101-de88-8d2507bfdc52"
   },
   "outputs": [
    {
     "data": {
      "text/plain": [
       "33"
      ]
     },
     "execution_count": 2,
     "metadata": {},
     "output_type": "execute_result"
    }
   ],
   "source": [
    "files = glob.glob('data/*')\n",
    "len(files)"
   ]
  },
  {
   "cell_type": "code",
   "execution_count": 3,
   "metadata": {
    "colab": {},
    "colab_type": "code",
    "id": "gIfH-YDBYcqD",
    "outputId": "c5f8a0f2-d887-4214-d08c-dcc8d49d417f"
   },
   "outputs": [
    {
     "name": "stderr",
     "output_type": "stream",
     "text": [
      "100%|█████████████████████████████████████████████████████████████████████████████████| 10/10 [49:03<00:00, 283.17s/it]\n"
     ]
    }
   ],
   "source": [
    "datasets.copy_feather(files, grouping=3, reb=False)"
   ]
  },
  {
   "cell_type": "markdown",
   "metadata": {
    "colab_type": "text",
    "id": "OKabrcrNYcpz"
   },
   "source": [
    "# Rebalancear Dataset\n",
    "Ejecutar esta parte en local desde la carpeta en la que esta \"data/\""
   ]
  },
  {
   "cell_type": "code",
   "execution_count": 5,
   "metadata": {
    "colab": {},
    "colab_type": "code",
    "id": "knuq6yTaYcqJ"
   },
   "outputs": [
    {
     "data": {
      "text/plain": [
       "57"
      ]
     },
     "execution_count": 5,
     "metadata": {},
     "output_type": "execute_result"
    }
   ],
   "source": [
    "files = glob.glob('train_simple/*')\n",
    "len(files)"
   ]
  },
  {
   "cell_type": "code",
   "execution_count": 8,
   "metadata": {},
   "outputs": [],
   "source": [
    "suffix='simple_up'"
   ]
  },
  {
   "cell_type": "code",
   "execution_count": 11,
   "metadata": {},
   "outputs": [
    {
     "name": "stderr",
     "output_type": "stream",
     "text": [
      "100%|██████████████████████████████████████████████████████████████████████████████████| 57/57 [12:00<00:00, 10.71s/it]\n"
     ]
    }
   ],
   "source": [
    "from tqdm import tqdm\n",
    "i=0\n",
    "for f in tqdm(files):\n",
    "    df = func.toDF(f)\n",
    "    df['LABEL'] = df['LABEL'].apply(lambda x: 1 if x == 1 else 0)\n",
    "    df = func.rebalance(df)\n",
    "    df.reset_index(drop=True).to_feather('train_' + suffix + '/file_' + str(i) + ('.feather'))\n",
    "    i=i+1"
   ]
  },
  {
   "cell_type": "code",
   "execution_count": 12,
   "metadata": {},
   "outputs": [
    {
     "name": "stderr",
     "output_type": "stream",
     "text": [
      "100%|██████████████████████████████████████████████████████████████████████████████████| 57/57 [07:12<00:00,  7.46s/it]\n"
     ]
    }
   ],
   "source": [
    "files = glob.glob('test_simple/*')\n",
    "len(files)\n",
    "i=0\n",
    "for f in tqdm(files):\n",
    "    df = func.toDF(f)\n",
    "    df['LABEL'] = df['LABEL'].apply(lambda x: 1 if x == 1 else 0)\n",
    "    df = func.rebalance(df)\n",
    "    df.reset_index(drop=True).to_feather('test_' + suffix + '/file_' + str(i) + ('.feather'))\n",
    "    i=i+1"
   ]
  },
  {
   "cell_type": "code",
   "execution_count": 13,
   "metadata": {},
   "outputs": [
    {
     "name": "stderr",
     "output_type": "stream",
     "text": [
      "100%|██████████████████████████████████████████████████████████████████████████████████| 57/57 [07:14<00:00,  7.35s/it]\n"
     ]
    }
   ],
   "source": [
    "files = glob.glob('validation_simple/*')\n",
    "len(files)\n",
    "i=0\n",
    "for f in tqdm(files):\n",
    "    df = func.toDF(f)\n",
    "    df['LABEL'] = df['LABEL'].apply(lambda x: 1 if x == 1 else 0)\n",
    "    df = func.rebalance(df)\n",
    "    df.reset_index(drop=True).to_feather('validation_' + suffix + '/file_' + str(i) + ('.feather'))\n",
    "    i=i+1"
   ]
  },
  {
   "cell_type": "code",
   "execution_count": null,
   "metadata": {},
   "outputs": [],
   "source": []
  }
 ],
 "metadata": {
  "colab": {
   "collapsed_sections": [],
   "name": "Copy from GS.ipynb",
   "provenance": [],
   "toc_visible": true
  },
  "kernelspec": {
   "display_name": "Python 3",
   "language": "python",
   "name": "python3"
  },
  "language_info": {
   "codemirror_mode": {
    "name": "ipython",
    "version": 3
   },
   "file_extension": ".py",
   "mimetype": "text/x-python",
   "name": "python",
   "nbconvert_exporter": "python",
   "pygments_lexer": "ipython3",
   "version": "3.6.6"
  }
 },
 "nbformat": 4,
 "nbformat_minor": 1
}
