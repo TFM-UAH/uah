{
 "cells": [
  {
   "cell_type": "code",
   "execution_count": null,
   "metadata": {
    "colab": {
     "base_uri": "https://localhost:8080/",
     "height": 34.0
    },
    "colab_type": "code",
    "executionInfo": {
     "elapsed": 1617.0,
     "status": "ok",
     "timestamp": 1.573222287782E12,
     "user": {
      "displayName": "Alberto Jose Benayas Alamos",
      "photoUrl": "https://lh3.googleusercontent.com/a-/AAuE7mDCSj3xohobtiMw9pws8DJfa69Dtcojufcb0jCImg=s64",
      "userId": "11113370724671368984"
     },
     "user_tz": -60.0
    },
    "id": "gxjZQStYPToh",
    "outputId": "2a1c7fb7-bd47-4aa2-a1e7-d5b13b9df8dd"
   },
   "outputs": [],
   "source": [
    "from google.colab import drive\n",
    "drive.mount('/content/drive')"
   ]
  },
  {
   "cell_type": "code",
   "execution_count": 17,
   "metadata": {
    "colab": {},
    "colab_type": "code",
    "id": "I4PG40zR74h1"
   },
   "outputs": [],
   "source": [
    "from google.cloud import storage\n",
    "import pandas as pd\n",
    "import numpy as np\n",
    "from io import StringIO\n",
    "import tensorflow as tf\n",
    "from keras.layers import AveragePooling2D, MaxPooling2D\n",
    "from keras.layers import Dense, Activation, Dropout\n",
    "from keras.models import Sequential, Model\n",
    "from keras.layers import Conv2D, Flatten, BatchNormalization, GlobalAveragePooling2D\n",
    "from keras.utils import to_categorical\n",
    "from keras.optimizers import SGD\n",
    "from keras.preprocessing.image import load_img\n",
    "from keras.preprocessing.image import img_to_array\n",
    "from keras.preprocessing.image import array_to_img\n",
    "from keras.preprocessing.image import save_img\n",
    "from keras.utils import Sequence\n",
    "from keras import regularizers\n",
    "from keras.models import load_model\n",
    "import os\n",
    "import psutil\n",
    "from generatorCNN import GeneratorCNN\n",
    "import glob\n",
    "from sklearn.model_selection import train_test_split\n",
    "from sklearn.metrics import roc_curve, auc, confusion_matrix\n",
    "import functions as func\n",
    "import datasets\n",
    "import matplotlib as plt\n",
    "from matplotlib import pyplot\n",
    "import seaborn as sns\n",
    "from keras import applications\n",
    "import models\n",
    "\n",
    "#from tqdm import tqdm\n",
    "\n",
    "\n",
    "project='clean-composite-253713'\n",
    "credentials_path = 'UAH TFM-eac84e3c4295.json'\n",
    "bucket_name = 'tfmuah2019'\n",
    "\n",
    "from numpy.random import seed\n",
    "seed(1)\n",
    "\n",
    "batch_size = 4\n",
    "path = 'drive/My Drive/Colab Notebooks/'\n",
    "num_classes = 2\n",
    "model_name = 'resnet'"
   ]
  },
  {
   "cell_type": "code",
   "execution_count": 2,
   "metadata": {
    "colab": {},
    "colab_type": "code",
    "id": "2fsBR2zbPTox"
   },
   "outputs": [],
   "source": [
    "def plot_accuracy(hist):\n",
    "    pyplot.plot(hist['acc'])\n",
    "    pyplot.plot(hist['val_acc'])\n",
    "    pyplot.legend(['train', 'test'], loc='upper left')\n",
    "    \n",
    "def plot_error(hist):\n",
    "    pyplot.plot(hist['loss'])\n",
    "    pyplot.plot(hist['val_loss'])\n",
    "    pyplot.legend(['train', 'test'], loc='upper left')\n",
    "    \n",
    "def plot_confusion_matrix(y_pred, y_test):\n",
    "    con_mat = confusion_matrix(y_true=y_test, y_pred=y_pred)\n",
    "    con_mat_norm = np.around(con_mat / con_mat.sum(axis=1)[:, np.newaxis], decimals=2)\n",
    "    con_mat_df = pd.DataFrame(con_mat_norm, index = [i for i in range(0,len(con_mat))], columns = [i for i in range(0,len(con_mat))])\n",
    "    figure = pyplot.figure(figsize=(4, 4))\n",
    "    sns.heatmap(con_mat_df, annot=True, cmap=plt.cm.Blues, square=True, cbar=False)\n",
    "    pyplot.tight_layout()\n",
    "    pyplot.ylabel('True label')\n",
    "    pyplot.xlabel('Predicted label')\n",
    "    pyplot.show()\n",
    "    \n",
    "def plot_roc_auc(y_pred, y_test):\n",
    "    pyplot.plot([0, 1], [0, 1], 'k--')\n",
    "    #n_curvas = 1 if len(y_test) == 1 else y_test.shape[1]\n",
    "    for i in range(0,1):\n",
    "        fpr, tpr, thresholds = roc_curve(y_test, y_pred)\n",
    "        auc_keras = auc(fpr, tpr)  \n",
    "        pyplot.plot(fpr, tpr, label='Class ' + str(i) + ' (area = {:.3f})'.format(auc_keras))\n",
    "    pyplot.xlabel('False positive rate')\n",
    "    pyplot.ylabel('True positive rate')\n",
    "    pyplot.title('ROC curve')\n",
    "    pyplot.legend(loc='best')\n",
    "    pyplot.show()\n",
    "\n",
    "def plot_roc_auc_threshold(y_pred, y_test):\n",
    "    pyplot.plot([0, 1], [0, 1], 'k--')\n",
    "    valores = [0.1,0.3,0.5, 0.7, 0.9]\n",
    "    for i in valores:\n",
    "        y_array_pred = output(y_pred, threshold=i)\n",
    "        y_array_test = output(y_test)\n",
    "        fpr, tpr, thresholds = roc_curve(y_array_pred, y_array_test)\n",
    "        auc_keras = auc(fpr, tpr)  \n",
    "        acc = accuracy(y_array_pred, y_array_test)\n",
    "        pyplot.plot(fpr, tpr, label='Thrs. ' + str(i) + ' (area= {:.3f})'.format(auc_keras)+' (acc= {:.3f})'.format(acc))\n",
    "    pyplot.xlabel('False positive rate')\n",
    "    pyplot.ylabel('True positive rate')\n",
    "    pyplot.title('ROC curve')\n",
    "    pyplot.legend(loc='best')\n",
    "    pyplot.show()\n",
    "\n",
    "def output(y_pred, threshold=0.5):\n",
    "    if len(y_pred.shape) > 1:\n",
    "        if y_pred.shape[1] > 1:\n",
    "            return [np.argmax(x) for x in y_pred]\n",
    "        else:\n",
    "            return [ 1 if x >= threshold else 0 for x in y_pred ]\n",
    "    else:\n",
    "        return [ 1 if x >= threshold else 0 for x in y_pred ]\n",
    "\n",
    "def accuracy(y_pred, y_test):\n",
    "    acc = np.array([ y_pred[i] == y_test[i] for i in range(0,len(y_test))])\n",
    "    return acc.sum()/len(acc)"
   ]
  },
  {
   "cell_type": "markdown",
   "metadata": {
    "colab_type": "text",
    "id": "fCVny-2DPTpK"
   },
   "source": [
    "### Convertir CSV a Feather"
   ]
  },
  {
   "cell_type": "code",
   "execution_count": null,
   "metadata": {
    "colab": {},
    "colab_type": "code",
    "id": "xCeFoX7yf2ja"
   },
   "outputs": [],
   "source": [
    "X_train, y_train, X_validation, y_validation = datasets.local(path, num_train=15, num_validation=15)"
   ]
  },
  {
   "cell_type": "code",
   "execution_count": 11,
   "metadata": {
    "colab": {},
    "colab_type": "code",
    "id": "zmDzmxAbPTpN"
   },
   "outputs": [
    {
     "name": "stdout",
     "output_type": "stream",
     "text": [
      "X train shape (15912, 144, 144, 3)\n",
      "y train shape (15912,)\n",
      "X validation shape (1976, 144, 144, 3)\n",
      "y validation shape (1976,)\n"
     ]
    }
   ],
   "source": [
    "files = glob.glob('train_simple_up/*')\n",
    "df = func.toDF_all(files, reb=False)\n",
    "X_train, y_train = func.split(df, categories=2)\n",
    "X_train = X_train / 255\n",
    "print('X train shape', X_train.shape)\n",
    "print('y train shape', y_train.shape)\n",
    "\n",
    "files = glob.glob('validation_simple_up/*')\n",
    "df = func.toDF_all(files, reb=False)\n",
    "X_validation, y_validation = func.split(df, categories=2)\n",
    "X_validation = X_validation / 255\n",
    "print('X validation shape', X_validation.shape)\n",
    "print('y validation shape', y_validation.shape)\n",
    "\n",
    "shape = (X_train.shape[1], X_train.shape[2], X_train.shape[3])"
   ]
  },
  {
   "cell_type": "code",
   "execution_count": 5,
   "metadata": {
    "colab": {},
    "colab_type": "code",
    "id": "MSg-xoy9PTpR"
   },
   "outputs": [
    {
     "ename": "NameError",
     "evalue": "name 'X_test' is not defined",
     "traceback": [
      "\u001b[0;31m---------------------------------------------------------------------------\u001b[0m",
      "\u001b[0;31mNameError\u001b[0m                                 Traceback (most recent call last)",
      "\u001b[0;32m<ipython-input-5-42984623adea>\u001b[0m in \u001b[0;36m<module>\u001b[0;34m\u001b[0m\n\u001b[0;32m----> 1\u001b[0;31m \u001b[0mX\u001b[0m \u001b[0;34m=\u001b[0m \u001b[0mnp\u001b[0m\u001b[0;34m.\u001b[0m\u001b[0mconcatenate\u001b[0m\u001b[0;34m(\u001b[0m\u001b[0;34m(\u001b[0m\u001b[0mX_train\u001b[0m\u001b[0;34m,\u001b[0m \u001b[0mX_test\u001b[0m\u001b[0;34m)\u001b[0m\u001b[0;34m,\u001b[0m \u001b[0maxis\u001b[0m\u001b[0;34m=\u001b[0m\u001b[0;36m0\u001b[0m\u001b[0;34m)\u001b[0m\u001b[0;34m\u001b[0m\u001b[0;34m\u001b[0m\u001b[0m\n\u001b[0m\u001b[1;32m      2\u001b[0m \u001b[0my\u001b[0m \u001b[0;34m=\u001b[0m \u001b[0mnp\u001b[0m\u001b[0;34m.\u001b[0m\u001b[0mconcatenate\u001b[0m\u001b[0;34m(\u001b[0m\u001b[0;34m(\u001b[0m\u001b[0my_train\u001b[0m\u001b[0;34m,\u001b[0m \u001b[0my_test\u001b[0m\u001b[0;34m)\u001b[0m\u001b[0;34m,\u001b[0m \u001b[0maxis\u001b[0m\u001b[0;34m=\u001b[0m\u001b[0;36m0\u001b[0m\u001b[0;34m)\u001b[0m\u001b[0;34m\u001b[0m\u001b[0;34m\u001b[0m\u001b[0m\n\u001b[1;32m      3\u001b[0m \u001b[0;34m\u001b[0m\u001b[0m\n\u001b[1;32m      4\u001b[0m \u001b[0;31m#for i in range(0,4):\u001b[0m\u001b[0;34m\u001b[0m\u001b[0;34m\u001b[0m\u001b[0;34m\u001b[0m\u001b[0m\n\u001b[1;32m      5\u001b[0m \u001b[0;31m#    X = np.concatenate((X, X_train, X_test), axis=0)\u001b[0m\u001b[0;34m\u001b[0m\u001b[0;34m\u001b[0m\u001b[0;34m\u001b[0m\u001b[0m\n",
      "\u001b[0;31mNameError\u001b[0m: name 'X_test' is not defined"
     ],
     "output_type": "error"
    }
   ],
   "source": [
    "X = np.concatenate((X_train, X_test), axis=0)\n",
    "y = np.concatenate((y_train, y_test), axis=0)\n",
    "\n",
    "#for i in range(0,4):\n",
    "#    X = np.concatenate((X, X_train, X_test), axis=0)\n",
    "#    y = np.concatenate((y, y_train, y_test), axis=0)\n",
    "print('X shape', X.shape)\n",
    "print('y shape', y.shape)"
   ]
  },
  {
   "cell_type": "markdown",
   "metadata": {
    "colab_type": "text",
    "id": "Gv9UycULPTpT"
   },
   "source": [
    "### Crear Generadores desde Local para entrenar en Batch"
   ]
  },
  {
   "cell_type": "code",
   "execution_count": null,
   "metadata": {
    "colab": {
     "base_uri": "https://localhost:8080/",
     "height": 34.0
    },
    "colab_type": "code",
    "executionInfo": {
     "elapsed": 25508.0,
     "status": "ok",
     "timestamp": 1.573232286253E12,
     "user": {
      "displayName": "Alberto Jose Benayas Alamos",
      "photoUrl": "https://lh3.googleusercontent.com/a-/AAuE7mDCSj3xohobtiMw9pws8DJfa69Dtcojufcb0jCImg=s64",
      "userId": "11113370724671368984"
     },
     "user_tz": -60.0
    },
    "id": "nHIiLY_ggLl_",
    "outputId": "178f4c41-28bd-4491-dec0-6db1ac00899a"
   },
   "outputs": [],
   "source": [
    "files_train = glob.glob('train_simple_up/*')\n",
    "files_validation = glob.glob('validation_simple_up/*')\n",
    "gen_train, gen_validation = datasets.generators(files_train=files_train, files_validation=files_validation, num_classes=num_classes, batch_size=batch_size)\n",
    "shape = (gen_train.shape()[1], gen_train.shape()[2], gen_train.shape()[3])\n",
    "shape"
   ]
  },
  {
   "cell_type": "markdown",
   "metadata": {
    "colab_type": "text",
    "id": "CkebrleqPTpX"
   },
   "source": [
    "### Generar Modelo y Entrenar"
   ]
  },
  {
   "cell_type": "code",
   "execution_count": null,
   "metadata": {
    "colab": {
     "base_uri": "https://localhost:8080/",
     "height": 34.0
    },
    "colab_type": "code",
    "executionInfo": {
     "elapsed": 1053.0,
     "status": "ok",
     "timestamp": 1.573230311466E12,
     "user": {
      "displayName": "Alberto Jose Benayas Alamos",
      "photoUrl": "https://lh3.googleusercontent.com/a-/AAuE7mDCSj3xohobtiMw9pws8DJfa69Dtcojufcb0jCImg=s64",
      "userId": "11113370724671368984"
     },
     "user_tz": -60.0
    },
    "id": "r9m-u6mmfOKP",
    "outputId": "ed220619-d968-430f-cdbb-77ba92b2ad55"
   },
   "outputs": [],
   "source": [
    "import tensorflow as tf\n",
    "device_name = tf.test.gpu_device_name()\n",
    "if device_name != '/device:GPU:0':\n",
    "  raise SystemError('GPU device not found')\n",
    "print('Found GPU at: {}'.format(device_name))"
   ]
  },
  {
   "cell_type": "code",
   "execution_count": null,
   "metadata": {},
   "outputs": [],
   "source": [
    "from tensorflow.python.client import device_lib\n",
    "print(device_lib.list_local_devices())"
   ]
  },
  {
   "cell_type": "code",
   "execution_count": 18,
   "metadata": {
    "colab": {},
    "colab_type": "code",
    "id": "9OTvIWtSiA3m"
   },
   "outputs": [
    {
     "name": "stderr",
     "output_type": "stream",
     "text": [
      "/home/benayas/.local/lib/python3.6/site-packages/keras_applications/resnet50.py:265: UserWarning: The output shape of `ResNet50(include_top=False)` has been changed since Keras 2.2.0.\n",
      "  warnings.warn('The output shape of `ResNet50(include_top=False)` '\n"
     ]
    },
    {
     "name": "stdout",
     "output_type": "stream",
     "text": [
      "Downloading data from https://github.com/fchollet/deep-learning-models/releases/download/v0.2/resnet50_weights_tf_dim_ordering_tf_kernels_notop.h5\n",
      "94658560/94653016 [==============================] - 25s 0us/step\n",
      "ResNet50 model loaded\n"
     ]
    }
   ],
   "source": [
    "model = models.model(model_name, shape=shape, num_classes=num_classes)\n",
    "#model = models.model('load', load_path=path + 'model_resnet_up_batchsize8_3.h5')"
   ]
  },
  {
   "cell_type": "code",
   "execution_count": null,
   "metadata": {
    "colab": {
     "base_uri": "https://localhost:8080/",
     "height": 663.0
    },
    "colab_type": "code",
    "executionInfo": {
     "elapsed": 8559432.0,
     "status": "error",
     "timestamp": 1.573240851342E12,
     "user": {
      "displayName": "Alberto Jose Benayas Alamos",
      "photoUrl": "https://lh3.googleusercontent.com/a-/AAuE7mDCSj3xohobtiMw9pws8DJfa69Dtcojufcb0jCImg=s64",
      "userId": "11113370724671368984"
     },
     "user_tz": -60.0
    },
    "id": "fXeBr8eaPTpj",
    "outputId": "8f23486f-fd1e-45ec-a09a-b7eaba716b42"
   },
   "outputs": [
    {
     "name": "stdout",
     "output_type": "stream",
     "text": [
      "Train on 15912 samples, validate on 1976 samples\n",
      "Epoch 1/50\n",
      "12996/15912 [=======================>......] - ETA: 4:53 - loss: 0.7509 - accuracy: 0.5081"
     ]
    }
   ],
   "source": [
    "history = model.fit(X_train, y_train, batch_size=batch_size, epochs=50, verbose=1, validation_data=(X_validation,y_validation))\n",
    "\n",
    "## Entrenar con generadores desde local\n",
    "#history = model.fit_generator(gen_train, validation_data=gen_validation, epochs=2, verbose=1, use_multiprocessing=True)"
   ]
  },
  {
   "cell_type": "markdown",
   "metadata": {
    "colab_type": "text",
    "id": "DXD8ICVCfW6Y"
   },
   "source": [
    "### Resultados"
   ]
  },
  {
   "cell_type": "code",
   "execution_count": null,
   "metadata": {
    "colab": {},
    "colab_type": "code",
    "id": "zJDI5LH6tOh9"
   },
   "outputs": [],
   "source": [
    "df_history = pd.read_csv(path + 'history_' + model_name + '_up_batchsize8_3.csv')"
   ]
  },
  {
   "cell_type": "code",
   "execution_count": null,
   "metadata": {
    "colab": {},
    "colab_type": "code",
    "id": "tDVwQ_i613v4"
   },
   "outputs": [],
   "source": [
    "df_history = pd.DataFrame(history.history)"
   ]
  },
  {
   "cell_type": "code",
   "execution_count": null,
   "metadata": {
    "colab": {},
    "colab_type": "code",
    "id": "qntFLycPtdFG"
   },
   "outputs": [],
   "source": [
    "df_history = pd.concat([df_history, pd.DataFrame(history.history)], ignore_index=True)"
   ]
  },
  {
   "cell_type": "code",
   "execution_count": null,
   "metadata": {
    "colab": {
     "base_uri": "https://localhost:8080/",
     "height": 204.0
    },
    "colab_type": "code",
    "executionInfo": {
     "elapsed": 510.0,
     "status": "ok",
     "timestamp": 1.573232158683E12,
     "user": {
      "displayName": "Alberto Jose Benayas Alamos",
      "photoUrl": "https://lh3.googleusercontent.com/a-/AAuE7mDCSj3xohobtiMw9pws8DJfa69Dtcojufcb0jCImg=s64",
      "userId": "11113370724671368984"
     },
     "user_tz": -60.0
    },
    "id": "NNW3TFBmtMug",
    "outputId": "a4c30815-c44a-4160-ea17-190da15460fa"
   },
   "outputs": [],
   "source": [
    "df_history.head()"
   ]
  },
  {
   "cell_type": "code",
   "execution_count": null,
   "metadata": {
    "colab": {
     "base_uri": "https://localhost:8080/",
     "height": 265.0
    },
    "colab_type": "code",
    "executionInfo": {
     "elapsed": 1282.0,
     "status": "ok",
     "timestamp": 1.573232164772E12,
     "user": {
      "displayName": "Alberto Jose Benayas Alamos",
      "photoUrl": "https://lh3.googleusercontent.com/a-/AAuE7mDCSj3xohobtiMw9pws8DJfa69Dtcojufcb0jCImg=s64",
      "userId": "11113370724671368984"
     },
     "user_tz": -60.0
    },
    "id": "BbTlAm5DPTpm",
    "outputId": "2b980bdc-9ff2-42a8-a955-a9df22cecfdd"
   },
   "outputs": [],
   "source": [
    "plot_accuracy(df_history)"
   ]
  },
  {
   "cell_type": "code",
   "execution_count": null,
   "metadata": {
    "colab": {
     "base_uri": "https://localhost:8080/",
     "height": 265.0
    },
    "colab_type": "code",
    "executionInfo": {
     "elapsed": 1264.0,
     "status": "ok",
     "timestamp": 1.573232169068E12,
     "user": {
      "displayName": "Alberto Jose Benayas Alamos",
      "photoUrl": "https://lh3.googleusercontent.com/a-/AAuE7mDCSj3xohobtiMw9pws8DJfa69Dtcojufcb0jCImg=s64",
      "userId": "11113370724671368984"
     },
     "user_tz": -60.0
    },
    "id": "uqRa8eJKPTps",
    "outputId": "a2c0bde5-87b5-44c1-88a1-0709ea23507c"
   },
   "outputs": [],
   "source": [
    "plot_error(df_history)"
   ]
  },
  {
   "cell_type": "code",
   "execution_count": null,
   "metadata": {
    "colab": {},
    "colab_type": "code",
    "id": "DMzMtI9wPTpu"
   },
   "outputs": [],
   "source": [
    "# Cargar dataset balanceado de test\n",
    "df = func.toDF_all(glob.glob(path + 'test_simple_up/*'), reb=False)\n",
    "X_test, y_test = func.split(df, categories=num_classes)\n",
    "X_test = X_test / 255\n"
   ]
  },
  {
   "cell_type": "code",
   "execution_count": null,
   "metadata": {
    "colab": {},
    "colab_type": "code",
    "id": "5uHGGziiffIz"
   },
   "outputs": [],
   "source": [
    "y_pred = model.predict(X_test)\n"
   ]
  },
  {
   "cell_type": "code",
   "execution_count": null,
   "metadata": {
    "colab": {
     "base_uri": "https://localhost:8080/",
     "height": 192.0
    },
    "colab_type": "code",
    "executionInfo": {
     "elapsed": 856.0,
     "status": "ok",
     "timestamp": 1.573232187366E12,
     "user": {
      "displayName": "Alberto Jose Benayas Alamos",
      "photoUrl": "https://lh3.googleusercontent.com/a-/AAuE7mDCSj3xohobtiMw9pws8DJfa69Dtcojufcb0jCImg=s64",
      "userId": "11113370724671368984"
     },
     "user_tz": -60.0
    },
    "id": "_QLUlPnSnmsQ",
    "outputId": "57feb3cd-c40c-4bf8-b4dd-3a239ce07090"
   },
   "outputs": [],
   "source": [
    "y_array_pred = output(y_pred, threshold=0.5)\n",
    "y_array_test = output(y_test)\n",
    "plot_confusion_matrix(y_array_pred, y_array_test)"
   ]
  },
  {
   "cell_type": "code",
   "execution_count": null,
   "metadata": {
    "colab": {
     "base_uri": "https://localhost:8080/",
     "height": 295.0
    },
    "colab_type": "code",
    "executionInfo": {
     "elapsed": 1586.0,
     "status": "ok",
     "timestamp": 1.573232194787E12,
     "user": {
      "displayName": "Alberto Jose Benayas Alamos",
      "photoUrl": "https://lh3.googleusercontent.com/a-/AAuE7mDCSj3xohobtiMw9pws8DJfa69Dtcojufcb0jCImg=s64",
      "userId": "11113370724671368984"
     },
     "user_tz": -60.0
    },
    "id": "kUmxgQSarnJq",
    "outputId": "f3dbf8c7-96a6-4d43-cf9f-8712e1926c9b"
   },
   "outputs": [],
   "source": [
    "plot_roc_auc_threshold(y_pred, y_test)"
   ]
  },
  {
   "cell_type": "code",
   "execution_count": null,
   "metadata": {
    "colab": {
     "base_uri": "https://localhost:8080/",
     "height": 34.0
    },
    "colab_type": "code",
    "executionInfo": {
     "elapsed": 534.0,
     "status": "ok",
     "timestamp": 1.573199225317E12,
     "user": {
      "displayName": "Alberto Jose Benayas Alamos",
      "photoUrl": "https://lh3.googleusercontent.com/a-/AAuE7mDCSj3xohobtiMw9pws8DJfa69Dtcojufcb0jCImg=s64",
      "userId": "11113370724671368984"
     },
     "user_tz": -60.0
    },
    "id": "4-p6Brq43Pe5",
    "outputId": "096d965f-dbae-4523-d52c-64b7dd321d1a"
   },
   "outputs": [],
   "source": [
    "acc = np.array([ y_array_pred[i] == y_array_test[i] for i in range(0,len(y_array_test))])\n",
    "print(\"Accuracy: \", acc.sum()/len(acc) )"
   ]
  },
  {
   "cell_type": "code",
   "execution_count": null,
   "metadata": {
    "colab": {},
    "colab_type": "code",
    "id": "b_Gi1f8VPTpy"
   },
   "outputs": [],
   "source": [
    "model.save(path + 'model_' + model_name + '_up_batchsize8_3.h5')\n",
    "model.save_weights(path + 'weight_' + model_name + '_up_batchsize8_3.h5')\n",
    "df_history.to_csv(path + 'history_' + model_name + '_up_batchsize8_3.csv')"
   ]
  }
 ],
 "metadata": {
  "accelerator": "GPU",
  "colab": {
   "collapsed_sections": [],
   "name": "CNN Colab.ipynb",
   "provenance": [],
   "toc_visible": true
  },
  "kernelspec": {
   "display_name": "Python 3",
   "language": "python",
   "name": "python3"
  },
  "language_info": {
   "codemirror_mode": {
    "name": "ipython",
    "version": 3
   },
   "file_extension": ".py",
   "mimetype": "text/x-python",
   "name": "python",
   "nbconvert_exporter": "python",
   "pygments_lexer": "ipython3",
   "version": "3.6.8"
  }
 },
 "nbformat": 4,
 "nbformat_minor": 1
}
