{
 "cells": [
  {
   "cell_type": "code",
   "execution_count": 1,
   "metadata": {},
   "outputs": [
    {
     "name": "stderr",
     "output_type": "stream",
     "text": [
      "/home/benayas/.local/lib/python3.6/site-packages/tensorflow/python/framework/dtypes.py:516: FutureWarning: Passing (type, 1) or '1type' as a synonym of type is deprecated; in a future version of numpy, it will be understood as (type, (1,)) / '(1,)type'.\n",
      "  _np_qint8 = np.dtype([(\"qint8\", np.int8, 1)])\n",
      "/home/benayas/.local/lib/python3.6/site-packages/tensorflow/python/framework/dtypes.py:517: FutureWarning: Passing (type, 1) or '1type' as a synonym of type is deprecated; in a future version of numpy, it will be understood as (type, (1,)) / '(1,)type'.\n",
      "  _np_quint8 = np.dtype([(\"quint8\", np.uint8, 1)])\n",
      "/home/benayas/.local/lib/python3.6/site-packages/tensorflow/python/framework/dtypes.py:518: FutureWarning: Passing (type, 1) or '1type' as a synonym of type is deprecated; in a future version of numpy, it will be understood as (type, (1,)) / '(1,)type'.\n",
      "  _np_qint16 = np.dtype([(\"qint16\", np.int16, 1)])\n",
      "/home/benayas/.local/lib/python3.6/site-packages/tensorflow/python/framework/dtypes.py:519: FutureWarning: Passing (type, 1) or '1type' as a synonym of type is deprecated; in a future version of numpy, it will be understood as (type, (1,)) / '(1,)type'.\n",
      "  _np_quint16 = np.dtype([(\"quint16\", np.uint16, 1)])\n",
      "/home/benayas/.local/lib/python3.6/site-packages/tensorflow/python/framework/dtypes.py:520: FutureWarning: Passing (type, 1) or '1type' as a synonym of type is deprecated; in a future version of numpy, it will be understood as (type, (1,)) / '(1,)type'.\n",
      "  _np_qint32 = np.dtype([(\"qint32\", np.int32, 1)])\n",
      "/home/benayas/.local/lib/python3.6/site-packages/tensorflow/python/framework/dtypes.py:525: FutureWarning: Passing (type, 1) or '1type' as a synonym of type is deprecated; in a future version of numpy, it will be understood as (type, (1,)) / '(1,)type'.\n",
      "  np_resource = np.dtype([(\"resource\", np.ubyte, 1)])\n",
      "/home/benayas/.local/lib/python3.6/site-packages/tensorboard/compat/tensorflow_stub/dtypes.py:541: FutureWarning: Passing (type, 1) or '1type' as a synonym of type is deprecated; in a future version of numpy, it will be understood as (type, (1,)) / '(1,)type'.\n",
      "  _np_qint8 = np.dtype([(\"qint8\", np.int8, 1)])\n",
      "/home/benayas/.local/lib/python3.6/site-packages/tensorboard/compat/tensorflow_stub/dtypes.py:542: FutureWarning: Passing (type, 1) or '1type' as a synonym of type is deprecated; in a future version of numpy, it will be understood as (type, (1,)) / '(1,)type'.\n",
      "  _np_quint8 = np.dtype([(\"quint8\", np.uint8, 1)])\n",
      "/home/benayas/.local/lib/python3.6/site-packages/tensorboard/compat/tensorflow_stub/dtypes.py:543: FutureWarning: Passing (type, 1) or '1type' as a synonym of type is deprecated; in a future version of numpy, it will be understood as (type, (1,)) / '(1,)type'.\n",
      "  _np_qint16 = np.dtype([(\"qint16\", np.int16, 1)])\n",
      "/home/benayas/.local/lib/python3.6/site-packages/tensorboard/compat/tensorflow_stub/dtypes.py:544: FutureWarning: Passing (type, 1) or '1type' as a synonym of type is deprecated; in a future version of numpy, it will be understood as (type, (1,)) / '(1,)type'.\n",
      "  _np_quint16 = np.dtype([(\"quint16\", np.uint16, 1)])\n",
      "/home/benayas/.local/lib/python3.6/site-packages/tensorboard/compat/tensorflow_stub/dtypes.py:545: FutureWarning: Passing (type, 1) or '1type' as a synonym of type is deprecated; in a future version of numpy, it will be understood as (type, (1,)) / '(1,)type'.\n",
      "  _np_qint32 = np.dtype([(\"qint32\", np.int32, 1)])\n",
      "/home/benayas/.local/lib/python3.6/site-packages/tensorboard/compat/tensorflow_stub/dtypes.py:550: FutureWarning: Passing (type, 1) or '1type' as a synonym of type is deprecated; in a future version of numpy, it will be understood as (type, (1,)) / '(1,)type'.\n",
      "  np_resource = np.dtype([(\"resource\", np.ubyte, 1)])\n"
     ]
    },
    {
     "name": "stdout",
     "output_type": "stream",
     "text": [
      "Configurando TF\n"
     ]
    }
   ],
   "source": [
    "import pandas as pd\n",
    "import numpy as np\n",
    "\n",
    "#to plot within notebook\n",
    "import matplotlib.pyplot as plt\n",
    "%matplotlib inline\n",
    "\n",
    "#setting figure size\n",
    "from matplotlib.pylab import rcParams\n",
    "rcParams['figure.figsize'] = 20,10\n",
    "\n",
    "import tensorflow as tf\n",
    "print('Configurando TF')\n",
    "config = tf.compat.v1.ConfigProto()\n",
    "config.gpu_options.allow_growth = True\n",
    "session = tf.compat.v1.Session(config=config)"
   ]
  },
  {
   "cell_type": "code",
   "execution_count": 2,
   "metadata": {},
   "outputs": [],
   "source": [
    "#Get the data and splits in input X and output Y, by spliting in `n` past days as input X \n",
    "#and `m` coming days as Y.\n",
    "def processData(data, look_back, forward_days,jump=1,  scale=True):\n",
    "    X,Y = [],[]\n",
    "    for i in range(0,len(data) -look_back -forward_days +1, jump):\n",
    "        d = data[i:i+look_back+forward_days]\n",
    "        if scale == True:\n",
    "            d = MinMaxScaler().fit_transform( d )\n",
    "        X.append(d[:look_back])\n",
    "        Y.append(d[look_back:look_back+forward_days])\n",
    "    return np.array(X),np.array(Y)"
   ]
  },
  {
   "cell_type": "code",
   "execution_count": 3,
   "metadata": {},
   "outputs": [],
   "source": [
    "df_train = pd.read_feather(\"/home/benayas/datasets/lstm/train/train.feather\")\n",
    "appl = df_train[df_train['SYMBOL']=='AAPL']\n",
    "array = appl['ADJ_CLOSE'].values.reshape(appl.shape[0],1)"
   ]
  },
  {
   "cell_type": "code",
   "execution_count": 6,
   "metadata": {},
   "outputs": [],
   "source": [
    "look_back = 100\n",
    "forward_days = 30\n",
    "num_periods = 20\n",
    "\n",
    "#importing required libraries\n",
    "from sklearn.preprocessing import MinMaxScaler\n",
    "from tensorflow.keras.models import Sequential\n",
    "from tensorflow.keras.layers import Dense, Dropout, LSTM\n",
    "\n",
    "#Data Normalization\n",
    "\n",
    "X,y = processData(array,look_back,forward_days)\n",
    "y = np.array([list(a.ravel()) for a in y])\n",
    "\n",
    "from sklearn.model_selection import train_test_split\n",
    "X_train, X_validate, y_train, y_validate = train_test_split(X, y, test_size=0.10, random_state=42)\n",
    "\n",
    "#Training the LSTM\n",
    "NUM_NEURONS_FirstLayer = 50\n",
    "NUM_NEURONS_SecondLayer = 30\n",
    "EPOCHS = 20\n",
    "\n",
    "#Build the model\n",
    "model = Sequential()\n",
    "model.add(LSTM(NUM_NEURONS_FirstLayer,input_shape=(look_back,1), return_sequences=True))\n",
    "model.add(LSTM(NUM_NEURONS_SecondLayer,input_shape=(NUM_NEURONS_FirstLayer,1)))\n",
    "model.add(Dense(forward_days))\n",
    "model.compile(loss='mean_squared_error', optimizer='adam')"
   ]
  },
  {
   "cell_type": "code",
   "execution_count": 7,
   "metadata": {},
   "outputs": [
    {
     "name": "stdout",
     "output_type": "stream",
     "text": [
      "Train on 7839 samples, validate on 872 samples\n",
      "WARNING:tensorflow:From /home/benayas/.local/lib/python3.6/site-packages/tensorflow/python/ops/math_grad.py:1250: add_dispatch_support.<locals>.wrapper (from tensorflow.python.ops.array_ops) is deprecated and will be removed in a future version.\n",
      "Instructions for updating:\n",
      "Use tf.where in 2.0, which has the same broadcast rule as np.where\n",
      "Epoch 1/20\n",
      "7839/7839 [==============================] - 650s 83ms/sample - loss: 0.0524 - val_loss: 0.0483\n",
      "Epoch 2/20\n",
      "7839/7839 [==============================] - 648s 83ms/sample - loss: 0.0419 - val_loss: 0.0357\n",
      "Epoch 3/20\n",
      "7839/7839 [==============================] - 648s 83ms/sample - loss: 0.0379 - val_loss: 0.0344\n",
      "Epoch 4/20\n",
      "7839/7839 [==============================] - 647s 83ms/sample - loss: 0.0394 - val_loss: 0.0398\n",
      "Epoch 5/20\n",
      "7839/7839 [==============================] - 647s 83ms/sample - loss: 0.0388 - val_loss: 0.0328\n",
      "Epoch 6/20\n",
      "7839/7839 [==============================] - 647s 83ms/sample - loss: 0.0337 - val_loss: 0.0304\n",
      "Epoch 7/20\n",
      "7839/7839 [==============================] - 647s 83ms/sample - loss: 0.0318 - val_loss: 0.0310\n",
      "Epoch 8/20\n",
      "7839/7839 [==============================] - 647s 83ms/sample - loss: 0.0298 - val_loss: 0.0285\n",
      "Epoch 9/20\n",
      "7839/7839 [==============================] - 647s 83ms/sample - loss: 0.0279 - val_loss: 0.0269\n",
      "Epoch 10/20\n",
      "7839/7839 [==============================] - 647s 83ms/sample - loss: 0.0265 - val_loss: 0.0245\n",
      "Epoch 11/20\n",
      "7839/7839 [==============================] - 648s 83ms/sample - loss: 0.0257 - val_loss: 0.0256\n",
      "Epoch 12/20\n",
      "7839/7839 [==============================] - 647s 83ms/sample - loss: 0.0243 - val_loss: 0.0238\n",
      "Epoch 13/20\n",
      "7839/7839 [==============================] - 647s 83ms/sample - loss: 0.0247 - val_loss: 0.0241\n",
      "Epoch 14/20\n",
      "7839/7839 [==============================] - 647s 83ms/sample - loss: 0.0239 - val_loss: 0.0237\n",
      "Epoch 15/20\n",
      "7839/7839 [==============================] - 647s 83ms/sample - loss: 0.0229 - val_loss: 0.0219\n",
      "Epoch 16/20\n",
      "7839/7839 [==============================] - 647s 83ms/sample - loss: 0.0220 - val_loss: 0.0222\n",
      "Epoch 17/20\n",
      "7839/7839 [==============================] - 647s 83ms/sample - loss: 0.0210 - val_loss: 0.0212\n",
      "Epoch 18/20\n",
      "7839/7839 [==============================] - 647s 83ms/sample - loss: 0.0210 - val_loss: 0.0219\n",
      "Epoch 19/20\n",
      "7839/7839 [==============================] - 647s 83ms/sample - loss: 0.0197 - val_loss: 0.0184\n",
      "Epoch 20/20\n",
      "7839/7839 [==============================] - 647s 82ms/sample - loss: 0.0187 - val_loss: 0.0204\n"
     ]
    }
   ],
   "source": [
    "history = model.fit(X_train,y_train,epochs=EPOCHS,validation_data=(X_validate,y_validate),shuffle=True,batch_size=2, verbose=1)"
   ]
  },
  {
   "cell_type": "markdown",
   "metadata": {},
   "source": [
    "# Test"
   ]
  },
  {
   "cell_type": "code",
   "execution_count": 8,
   "metadata": {},
   "outputs": [],
   "source": [
    "df_test = pd.read_feather(\"/home/benayas/datasets/lstm/test/test.feather\")\n",
    "appl_test = df_test[df_test['SYMBOL']=='AAPL']\n",
    "array_test = appl_test['ADJ_CLOSE'].values.reshape(appl_test.shape[0],1)\n",
    "\n",
    "X_test,y_test = processData(array_test,look_back,forward_days, jump=num_periods, scale=False)"
   ]
  },
  {
   "cell_type": "code",
   "execution_count": 9,
   "metadata": {},
   "outputs": [
    {
     "data": {
      "text/plain": [
       "(22, 30, 1)"
      ]
     },
     "execution_count": 9,
     "metadata": {},
     "output_type": "execute_result"
    }
   ],
   "source": [
    "y_test.shape"
   ]
  },
  {
   "cell_type": "code",
   "execution_count": 10,
   "metadata": {},
   "outputs": [
    {
     "data": {
      "text/plain": [
       "(560, 1)"
      ]
     },
     "execution_count": 10,
     "metadata": {},
     "output_type": "execute_result"
    }
   ],
   "source": [
    "array_test.shape"
   ]
  },
  {
   "cell_type": "code",
   "execution_count": 11,
   "metadata": {},
   "outputs": [
    {
     "data": {
      "text/plain": [
       "560"
      ]
     },
     "execution_count": 11,
     "metadata": {},
     "output_type": "execute_result"
    }
   ],
   "source": [
    "len(appl_test)"
   ]
  },
  {
   "cell_type": "code",
   "execution_count": 12,
   "metadata": {},
   "outputs": [
    {
     "data": {
      "image/png": "[encoded data removed]",
      "text/plain": [
       "<Figure size 1440x720 with 1 Axes>"
      ]
     },
     "metadata": {
      "needs_background": "light"
     },
     "output_type": "display_data"
    }
   ],
   "source": [
    "plt.figure(figsize = (20,10))\n",
    "\n",
    "for i in range(0,len(X_test)):\n",
    "    scl = MinMaxScaler()\n",
    "    scl.fit(X_test[i])\n",
    "    scl.fit(y_test[i])\n",
    "    d = scl.transform( X_test[i] )\n",
    "    y_pred = model.predict( d.reshape(1,d.shape[0],1) )\n",
    "    y_pred = y_pred.reshape(-1,1)\n",
    "    #plt.plot([x + i*forward_days for x in range(len(Xt[i]))], scl.inverse_transform(Xt[i].reshape(-1,1)), color='r')\n",
    "    plt.plot([x + i*num_periods for x in range(len(y_pred))], scl.inverse_transform(y_pred.reshape(-1,1)), color='r')\n",
    "    plt.plot([x + i*num_periods for x in range(len(y_test[i]))], y_test[i], color='b')\n",
    "\n",
    "plt.plot(0, 0, color='r', label='Prediction') #only to place the label\n",
    "plt.plot(0,0,color='b', label='Target')\n",
    "plt.legend(loc='best')\n",
    "plt.show()"
   ]
  },
  {
   "cell_type": "code",
   "execution_count": 13,
   "metadata": {},
   "outputs": [
    {
     "data": {
      "text/plain": [
       "(22, 30)"
      ]
     },
     "execution_count": 13,
     "metadata": {},
     "output_type": "execute_result"
    }
   ],
   "source": [
    "Xt = model.predict(X_test)\n",
    "Xt.shape"
   ]
  },
  {
   "cell_type": "code",
   "execution_count": 14,
   "metadata": {},
   "outputs": [],
   "source": [
    "i=0\n",
    "scl = MinMaxScaler()\n",
    "scl.fit(X_test[i])\n",
    "scl.fit(y_test[i])\n",
    "d = scl.transform( X_test[i] )\n",
    "y_pred = model.predict( d.reshape(1,d.shape[0],1) )\n",
    "y_pred = y_pred.reshape(-1,1)\n"
   ]
  },
  {
   "cell_type": "code",
   "execution_count": 15,
   "metadata": {},
   "outputs": [
    {
     "data": {
      "text/plain": [
       "(100, 1)"
      ]
     },
     "execution_count": 15,
     "metadata": {},
     "output_type": "execute_result"
    }
   ],
   "source": [
    "X_test[0].shape"
   ]
  },
  {
   "cell_type": "code",
   "execution_count": 16,
   "metadata": {},
   "outputs": [
    {
     "data": {
      "text/plain": [
       "(30, 1)"
      ]
     },
     "execution_count": 16,
     "metadata": {},
     "output_type": "execute_result"
    }
   ],
   "source": [
    "y_test[i].shape"
   ]
  },
  {
   "cell_type": "code",
   "execution_count": 17,
   "metadata": {},
   "outputs": [
    {
     "data": {
      "text/plain": [
       "(30, 1)"
      ]
     },
     "execution_count": 17,
     "metadata": {},
     "output_type": "execute_result"
    }
   ],
   "source": [
    "y_pred.shape"
   ]
  },
  {
   "cell_type": "code",
   "execution_count": 18,
   "metadata": {},
   "outputs": [
    {
     "data": {
      "text/plain": [
       "array([0.7639575], dtype=float32)"
      ]
     },
     "execution_count": 18,
     "metadata": {},
     "output_type": "execute_result"
    }
   ],
   "source": [
    "y_pred[0]"
   ]
  },
  {
   "cell_type": "code",
   "execution_count": 19,
   "metadata": {},
   "outputs": [
    {
     "data": {
      "text/plain": [
       "array([98.1294467])"
      ]
     },
     "execution_count": 19,
     "metadata": {},
     "output_type": "execute_result"
    }
   ],
   "source": [
    "y_test[i][0]"
   ]
  },
  {
   "cell_type": "code",
   "execution_count": 20,
   "metadata": {},
   "outputs": [
    {
     "data": {
      "text/plain": [
       "array([101.78376338])"
      ]
     },
     "execution_count": 20,
     "metadata": {},
     "output_type": "execute_result"
    }
   ],
   "source": [
    "X_test[0][0]"
   ]
  },
  {
   "cell_type": "code",
   "execution_count": 21,
   "metadata": {},
   "outputs": [
    {
     "data": {
      "text/plain": [
       "array([101.78376338])"
      ]
     },
     "execution_count": 21,
     "metadata": {},
     "output_type": "execute_result"
    }
   ],
   "source": [
    "scl.inverse_transform(scl.fit_transform(X_test[0]))[0]"
   ]
  },
  {
   "cell_type": "code",
   "execution_count": 22,
   "metadata": {},
   "outputs": [
    {
     "data": {
      "image/png": "[encoded data removed]",
      "text/plain": [
       "<Figure size 1440x720 with 1 Axes>"
      ]
     },
     "metadata": {
      "needs_background": "light"
     },
     "output_type": "display_data"
    }
   ],
   "source": [
    "plt.figure(figsize = (20,10))\n",
    "i=0\n",
    "scl = MinMaxScaler()\n",
    "scl.fit(X_test[i])\n",
    "scl.fit(y_test[i])\n",
    "d = scl.transform( X_test[i] )\n",
    "y_pred = model.predict( d.reshape(1,d.shape[0],1) )\n",
    "y_pred = y_pred.reshape(-1,1)\n",
    "y_pred = scl.inverse_transform(y_pred.reshape(-1,1))\n",
    "y_pred = np.concatenate([X_test[i],y_pred])\n",
    "\n",
    "y_test2 = np.concatenate([X_test[i],y_test[i]])\n",
    "\n",
    "plt.plot([x + i*num_periods for x in range(len(y_pred))], y_pred, color='r')\n",
    "plt.plot([x + i*num_periods for x in range(len(y_test2))], y_test2, color='b')\n",
    "\n",
    "plt.plot(0, 0, color='r', label='Prediction') #only to place the label\n",
    "plt.plot(0, 0 ,color='b', label='Target')\n",
    "plt.legend(loc='best')\n",
    "plt.show()"
   ]
  },
  {
   "cell_type": "code",
   "execution_count": null,
   "metadata": {},
   "outputs": [],
   "source": []
  }
 ],
 "metadata": {
  "kernelspec": {
   "display_name": "Python 3",
   "language": "python",
   "name": "python3"
  },
  "language_info": {
   "codemirror_mode": {
    "name": "ipython",
    "version": 3
   },
   "file_extension": ".py",
   "mimetype": "text/x-python",
   "name": "python",
   "nbconvert_exporter": "python",
   "pygments_lexer": "ipython3",
   "version": "3.6.8"
  }
 },
 "nbformat": 4,
 "nbformat_minor": 4
}
