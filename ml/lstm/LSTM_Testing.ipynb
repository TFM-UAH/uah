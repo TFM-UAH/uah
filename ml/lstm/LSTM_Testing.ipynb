{
 "cells": [
  {
   "cell_type": "code",
   "execution_count": 20,
   "metadata": {},
   "outputs": [
    {
     "name": "stdout",
     "output_type": "stream",
     "text": [
      "Configurando TF\n"
     ]
    }
   ],
   "source": [
    "import matplotlib as plt\n",
    "from matplotlib import pyplot\n",
    "import seaborn as sns\n",
    "import pandas as pd\n",
    "import numpy as np\n",
    "from tensorflow.keras.models import load_model\n",
    "from tqdm import tqdm\n",
    "from sklearn.metrics import roc_curve, auc, confusion_matrix, roc_auc_score\n",
    "\n",
    "#to plot within notebook\n",
    "import matplotlib.pyplot as plt\n",
    "%matplotlib inline\n",
    "\n",
    "#setting figure size\n",
    "from matplotlib.pylab import rcParams\n",
    "rcParams['figure.figsize'] = 20,10\n",
    "\n",
    "import tensorflow as tf\n",
    "print('Configurando TF')\n",
    "config = tf.compat.v1.ConfigProto()\n",
    "config.gpu_options.allow_growth = True\n",
    "session = tf.compat.v1.Session(config=config)"
   ]
  },
  {
   "cell_type": "code",
   "execution_count": 2,
   "metadata": {},
   "outputs": [],
   "source": [
    "#Get the data and splits in input X and output Y, by spliting in `n` past days as input X \n",
    "#and `m` coming days as Y.\n",
    "def processData(data, look_back, forward_days,jump=1,  scale=True, label=False):\n",
    "    serie = data['ADJ_CLOSE'].values.reshape(data.shape[0],1)\n",
    "    X, Y, labels = [],[],[]\n",
    "    for i in range(0,len(serie) -look_back -forward_days +1, jump):\n",
    "        d = serie[i:i+look_back+forward_days]\n",
    "        if scale == True:\n",
    "            d = MinMaxScaler().fit_transform( d )\n",
    "        X.append(d[:look_back])\n",
    "        Y.append(d[look_back:look_back+forward_days])\n",
    "        labels.append(data.iloc[i+look_back-1])\n",
    "    return X,Y,labels"
   ]
  },
  {
   "cell_type": "code",
   "execution_count": 18,
   "metadata": {},
   "outputs": [],
   "source": [
    "# Rutinas\n",
    "\n",
    "def plot_accuracy(hist):\n",
    "    pyplot.plot(hist['acc'])\n",
    "    pyplot.plot(hist['val_acc'])\n",
    "    pyplot.legend(['train', 'validation'], loc='upper left')\n",
    "    \n",
    "def plot_error(hist):\n",
    "    pyplot.plot(hist['loss'])\n",
    "    pyplot.plot(hist['val_loss'])\n",
    "    pyplot.legend(['train', 'validation'], loc='upper left')\n",
    "    \n",
    "def plot_confusion_matrix(y_pred, y_test):\n",
    "    con_mat = confusion_matrix(y_true=y_test, y_pred=y_pred)\n",
    "    #con_mat_norm = np.around(con_mat / con_mat.sum(axis=1)[:, np.newaxis], decimals=2)\n",
    "    con_mat_norm = np.around(100 * con_mat / len(y_test), decimals=3)\n",
    "    con_mat_df = pd.DataFrame(con_mat_norm, index = [i for i in range(0,len(con_mat))], columns = [i for i in range(0,len(con_mat))])\n",
    "    figure = pyplot.figure(figsize=(4, 4))\n",
    "    sns.heatmap(con_mat_df, annot=True, cmap=plt.cm.Blues, square=True, cbar=False, fmt='f')\n",
    "    pyplot.tight_layout()\n",
    "    pyplot.ylabel('True label')\n",
    "    pyplot.xlabel('Predicted label')\n",
    "    pyplot.show()\n",
    "\n",
    "def output(y_pred, threshold=0.5):\n",
    "    if len(y_pred.shape) > 1:\n",
    "        if y_pred.shape[1] > 1:\n",
    "            return [np.argmax(x) for x in y_pred]\n",
    "        else:\n",
    "            return [ 1 if x >= threshold else 0 for x in y_pred ]\n",
    "    else:\n",
    "        return [ 1 if x >= threshold else 0 for x in y_pred ]\n",
    "\n",
    "def accuracy(y_pred, y_test):\n",
    "    acc = np.array([ y_pred[i] == y_test[i] for i in range(0,len(y_test))])\n",
    "    return acc.sum()/len(acc)\n",
    "\n",
    "def labels_up(actuals, y_pred):\n",
    "    assert len(actuals) == len(y_pred)\n",
    "    labels = []\n",
    "    for i in range(len(actuals)):\n",
    "        if y_pred[i] >= actuals[i]['UPPER_LIMIT']:\n",
    "            labels.append(1)\n",
    "        else:\n",
    "            labels.append(0)\n",
    "    return labels\n",
    "\n",
    "def extract_label(y):\n",
    "    labels = []\n",
    "    for x in y:\n",
    "        labels.append(x['LABEL'])\n",
    "    return labels"
   ]
  },
  {
   "cell_type": "markdown",
   "metadata": {},
   "source": [
    "# Test"
   ]
  },
  {
   "cell_type": "code",
   "execution_count": 4,
   "metadata": {},
   "outputs": [],
   "source": [
    "from sklearn.preprocessing import MinMaxScaler\n",
    "look_back = 100\n",
    "forward_days = 30\n",
    "num_periods = 20"
   ]
  },
  {
   "cell_type": "code",
   "execution_count": 5,
   "metadata": {},
   "outputs": [
    {
     "name": "stdout",
     "output_type": "stream",
     "text": [
      "WARNING:tensorflow:From /home/benayas/.local/lib/python3.6/site-packages/tensorflow/python/ops/init_ops.py:97: calling GlorotUniform.__init__ (from tensorflow.python.ops.init_ops) with dtype is deprecated and will be removed in a future version.\n",
      "Instructions for updating:\n",
      "Call initializer instance with the dtype argument instead of passing it to the constructor\n",
      "WARNING:tensorflow:From /home/benayas/.local/lib/python3.6/site-packages/tensorflow/python/ops/init_ops.py:1251: calling VarianceScaling.__init__ (from tensorflow.python.ops.init_ops) with dtype is deprecated and will be removed in a future version.\n",
      "Instructions for updating:\n",
      "Call initializer instance with the dtype argument instead of passing it to the constructor\n",
      "WARNING:tensorflow:From /home/benayas/.local/lib/python3.6/site-packages/tensorflow/python/ops/init_ops.py:97: calling Orthogonal.__init__ (from tensorflow.python.ops.init_ops) with dtype is deprecated and will be removed in a future version.\n",
      "Instructions for updating:\n",
      "Call initializer instance with the dtype argument instead of passing it to the constructor\n",
      "WARNING:tensorflow:From /home/benayas/.local/lib/python3.6/site-packages/tensorflow/python/ops/init_ops.py:97: calling Zeros.__init__ (from tensorflow.python.ops.init_ops) with dtype is deprecated and will be removed in a future version.\n",
      "Instructions for updating:\n",
      "Call initializer instance with the dtype argument instead of passing it to the constructor\n",
      "WARNING:tensorflow:From /home/benayas/.local/lib/python3.6/site-packages/tensorflow/python/ops/math_grad.py:1250: add_dispatch_support.<locals>.wrapper (from tensorflow.python.ops.array_ops) is deprecated and will be removed in a future version.\n",
      "Instructions for updating:\n",
      "Use tf.where in 2.0, which has the same broadcast rule as np.where\n"
     ]
    }
   ],
   "source": [
    "model = load_model(\"/home/benayas/results/best_lstm_test_all.h5\")"
   ]
  },
  {
   "cell_type": "code",
   "execution_count": 6,
   "metadata": {},
   "outputs": [],
   "source": [
    "df_test = pd.read_feather(\"/home/benayas/datasets/lstm/test/test.feather\")\n",
    "X = []\n",
    "y = []\n",
    "actual_labels = []\n",
    "for s, group in df_test.groupby('SYMBOL'):\n",
    "    X_t, y_t, labels = processData( group, look_back, forward_days, jump=num_periods, scale=False, label=True)\n",
    "    X = X + X_t\n",
    "    y = y + y_t\n",
    "    actual_labels = actual_labels + labels\n",
    "\n",
    "X_test = np.array(X)\n",
    "y_test = np.array(y)"
   ]
  },
  {
   "cell_type": "code",
   "execution_count": 189,
   "metadata": {},
   "outputs": [],
   "source": [
    "df_test = pd.read_feather(\"/home/benayas/datasets/lstm/test/test.feather\")\n",
    "appl_test = df_test[df_test['SYMBOL']=='AAPL']\n",
    "#array_test = appl_test['ADJ_CLOSE'].values.reshape(appl_test.shape[0],1)\n",
    "\n",
    "X_test, y_test, actual_labels = processData( appl_test, look_back, forward_days, jump=num_periods, scale=False, label=True)"
   ]
  },
  {
   "cell_type": "code",
   "execution_count": 7,
   "metadata": {},
   "outputs": [
    {
     "name": "stdout",
     "output_type": "stream",
     "text": [
      "X shape (47088, 100, 1)\n",
      "Y shape (47088, 30, 1)\n",
      "Labels shape 47088\n"
     ]
    }
   ],
   "source": [
    "print('X shape {0}'.format(X_test.shape))\n",
    "print('Y shape {0}'.format(y_test.shape))\n",
    "print('Labels shape {0}'.format(len(actual_labels)))"
   ]
  },
  {
   "cell_type": "code",
   "execution_count": 11,
   "metadata": {},
   "outputs": [
    {
     "name": "stderr",
     "output_type": "stream",
     "text": [
      "100%|██████████| 47088/47088 [47:41<00:00, 16.46it/s]\n"
     ]
    }
   ],
   "source": [
    "pred_values = []\n",
    "for i in tqdm(range(0,len(X_test))):\n",
    "    scl = MinMaxScaler()\n",
    "    scl.fit(X_test[i])\n",
    "    scl.fit(y_test[i])\n",
    "    d = scl.transform( X_test[i] )\n",
    "    y_pred = model.predict( d.reshape(1,d.shape[0],1) )\n",
    "    y_pred = y_pred.reshape(-1,1)\n",
    "    y_pred = scl.inverse_transform(y_pred.reshape(-1,1))\n",
    "    pred_values.append(y_pred[-1:][0])\n",
    "\n",
    "pred_values = np.array(pred_values)"
   ]
  },
  {
   "cell_type": "code",
   "execution_count": 192,
   "metadata": {},
   "outputs": [
    {
     "data": {
      "text/plain": [
       "(22, 1)"
      ]
     },
     "execution_count": 192,
     "metadata": {},
     "output_type": "execute_result"
    }
   ],
   "source": [
    "pred_values.shape"
   ]
  },
  {
   "cell_type": "code",
   "execution_count": 12,
   "metadata": {},
   "outputs": [],
   "source": [
    "y_pred = labels_up(actual_labels, pred_values)\n",
    "y_test = extract_label(actual_labels)"
   ]
  },
  {
   "cell_type": "code",
   "execution_count": 13,
   "metadata": {},
   "outputs": [
    {
     "data": {
      "text/plain": [
       "0.8716233435270132"
      ]
     },
     "execution_count": 13,
     "metadata": {},
     "output_type": "execute_result"
    }
   ],
   "source": [
    "accuracy(y_pred, y_test)"
   ]
  },
  {
   "cell_type": "code",
   "execution_count": 21,
   "metadata": {},
   "outputs": [
    {
     "data": {
      "image/png": "[encoded data removed]",
      "text/plain": [
       "<Figure size 288x288 with 1 Axes>"
      ]
     },
     "metadata": {
      "needs_background": "light"
     },
     "output_type": "display_data"
    }
   ],
   "source": [
    "plot_confusion_matrix(y_pred, y_test)"
   ]
  },
  {
   "cell_type": "code",
   "execution_count": null,
   "metadata": {},
   "outputs": [],
   "source": []
  }
 ],
 "metadata": {
  "kernelspec": {
   "display_name": "Python 3",
   "language": "python",
   "name": "python3"
  },
  "language_info": {
   "codemirror_mode": {
    "name": "ipython",
    "version": 3
   },
   "file_extension": ".py",
   "mimetype": "text/x-python",
   "name": "python",
   "nbconvert_exporter": "python",
   "pygments_lexer": "ipython3",
   "version": "3.6.8"
  }
 },
 "nbformat": 4,
 "nbformat_minor": 4
}
