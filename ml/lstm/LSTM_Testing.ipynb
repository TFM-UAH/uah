{
 "cells": [
  {
   "cell_type": "code",
   "execution_count": 1,
   "metadata": {},
   "outputs": [
    {
     "name": "stderr",
     "output_type": "stream",
     "text": [
      "/home/benayas/.local/lib/python3.6/site-packages/tensorflow/python/framework/dtypes.py:516: FutureWarning: Passing (type, 1) or '1type' as a synonym of type is deprecated; in a future version of numpy, it will be understood as (type, (1,)) / '(1,)type'.\n",
      "  _np_qint8 = np.dtype([(\"qint8\", np.int8, 1)])\n",
      "/home/benayas/.local/lib/python3.6/site-packages/tensorflow/python/framework/dtypes.py:517: FutureWarning: Passing (type, 1) or '1type' as a synonym of type is deprecated; in a future version of numpy, it will be understood as (type, (1,)) / '(1,)type'.\n",
      "  _np_quint8 = np.dtype([(\"quint8\", np.uint8, 1)])\n",
      "/home/benayas/.local/lib/python3.6/site-packages/tensorflow/python/framework/dtypes.py:518: FutureWarning: Passing (type, 1) or '1type' as a synonym of type is deprecated; in a future version of numpy, it will be understood as (type, (1,)) / '(1,)type'.\n",
      "  _np_qint16 = np.dtype([(\"qint16\", np.int16, 1)])\n",
      "/home/benayas/.local/lib/python3.6/site-packages/tensorflow/python/framework/dtypes.py:519: FutureWarning: Passing (type, 1) or '1type' as a synonym of type is deprecated; in a future version of numpy, it will be understood as (type, (1,)) / '(1,)type'.\n",
      "  _np_quint16 = np.dtype([(\"quint16\", np.uint16, 1)])\n",
      "/home/benayas/.local/lib/python3.6/site-packages/tensorflow/python/framework/dtypes.py:520: FutureWarning: Passing (type, 1) or '1type' as a synonym of type is deprecated; in a future version of numpy, it will be understood as (type, (1,)) / '(1,)type'.\n",
      "  _np_qint32 = np.dtype([(\"qint32\", np.int32, 1)])\n",
      "/home/benayas/.local/lib/python3.6/site-packages/tensorflow/python/framework/dtypes.py:525: FutureWarning: Passing (type, 1) or '1type' as a synonym of type is deprecated; in a future version of numpy, it will be understood as (type, (1,)) / '(1,)type'.\n",
      "  np_resource = np.dtype([(\"resource\", np.ubyte, 1)])\n",
      "/home/benayas/.local/lib/python3.6/site-packages/tensorboard/compat/tensorflow_stub/dtypes.py:541: FutureWarning: Passing (type, 1) or '1type' as a synonym of type is deprecated; in a future version of numpy, it will be understood as (type, (1,)) / '(1,)type'.\n",
      "  _np_qint8 = np.dtype([(\"qint8\", np.int8, 1)])\n",
      "/home/benayas/.local/lib/python3.6/site-packages/tensorboard/compat/tensorflow_stub/dtypes.py:542: FutureWarning: Passing (type, 1) or '1type' as a synonym of type is deprecated; in a future version of numpy, it will be understood as (type, (1,)) / '(1,)type'.\n",
      "  _np_quint8 = np.dtype([(\"quint8\", np.uint8, 1)])\n",
      "/home/benayas/.local/lib/python3.6/site-packages/tensorboard/compat/tensorflow_stub/dtypes.py:543: FutureWarning: Passing (type, 1) or '1type' as a synonym of type is deprecated; in a future version of numpy, it will be understood as (type, (1,)) / '(1,)type'.\n",
      "  _np_qint16 = np.dtype([(\"qint16\", np.int16, 1)])\n",
      "/home/benayas/.local/lib/python3.6/site-packages/tensorboard/compat/tensorflow_stub/dtypes.py:544: FutureWarning: Passing (type, 1) or '1type' as a synonym of type is deprecated; in a future version of numpy, it will be understood as (type, (1,)) / '(1,)type'.\n",
      "  _np_quint16 = np.dtype([(\"quint16\", np.uint16, 1)])\n",
      "/home/benayas/.local/lib/python3.6/site-packages/tensorboard/compat/tensorflow_stub/dtypes.py:545: FutureWarning: Passing (type, 1) or '1type' as a synonym of type is deprecated; in a future version of numpy, it will be understood as (type, (1,)) / '(1,)type'.\n",
      "  _np_qint32 = np.dtype([(\"qint32\", np.int32, 1)])\n",
      "/home/benayas/.local/lib/python3.6/site-packages/tensorboard/compat/tensorflow_stub/dtypes.py:550: FutureWarning: Passing (type, 1) or '1type' as a synonym of type is deprecated; in a future version of numpy, it will be understood as (type, (1,)) / '(1,)type'.\n",
      "  np_resource = np.dtype([(\"resource\", np.ubyte, 1)])\n"
     ]
    },
    {
     "name": "stdout",
     "output_type": "stream",
     "text": [
      "Configurando TF\n"
     ]
    }
   ],
   "source": [
    "import matplotlib as plt\n",
    "from matplotlib import pyplot\n",
    "import seaborn as sns\n",
    "import pandas as pd\n",
    "import numpy as np\n",
    "from tensorflow.keras.models import load_model\n",
    "from tqdm import tqdm\n",
    "from sklearn.metrics import roc_curve, auc, confusion_matrix, roc_auc_score\n",
    "\n",
    "#to plot within notebook\n",
    "import matplotlib.pyplot as plt\n",
    "%matplotlib inline\n",
    "\n",
    "#setting figure size\n",
    "from matplotlib.pylab import rcParams\n",
    "rcParams['figure.figsize'] = 20,10\n",
    "\n",
    "import tensorflow as tf\n",
    "print('Configurando TF')\n",
    "config = tf.compat.v1.ConfigProto()\n",
    "config.gpu_options.allow_growth = True\n",
    "session = tf.compat.v1.Session(config=config)"
   ]
  },
  {
   "cell_type": "code",
   "execution_count": 2,
   "metadata": {},
   "outputs": [],
   "source": [
    "#Get the data and splits in input X and output Y, by spliting in `n` past days as input X \n",
    "#and `m` coming days as Y.\n",
    "def processData(data, look_back, forward_days,jump=1,  scale=True, label=False):\n",
    "    serie = data['ADJ_CLOSE'].values.reshape(data.shape[0],1)\n",
    "    X, Y, labels = [],[],[]\n",
    "    for i in range(0,len(serie) -look_back -forward_days +1, jump):\n",
    "        d = serie[i:i+look_back+forward_days]\n",
    "        if scale == True:\n",
    "            d = MinMaxScaler().fit_transform( d )\n",
    "        X.append(d[:look_back])\n",
    "        Y.append(d[look_back:look_back+forward_days])\n",
    "        labels.append(data.iloc[i+look_back-1])\n",
    "    return X,Y,labels"
   ]
  },
  {
   "cell_type": "code",
   "execution_count": 3,
   "metadata": {},
   "outputs": [],
   "source": [
    "# Rutinas\n",
    "\n",
    "def plot_accuracy(hist):\n",
    "    pyplot.plot(hist['acc'])\n",
    "    pyplot.plot(hist['val_acc'])\n",
    "    pyplot.legend(['train', 'validation'], loc='upper left')\n",
    "    \n",
    "def plot_error(hist):\n",
    "    pyplot.plot(hist['loss'])\n",
    "    pyplot.plot(hist['val_loss'])\n",
    "    pyplot.legend(['train', 'validation'], loc='upper left')\n",
    "    \n",
    "def plot_confusion_matrix(y_pred, y_test):\n",
    "    con_mat = confusion_matrix(y_true=y_test, y_pred=y_pred)\n",
    "    #con_mat_norm = np.around(con_mat / con_mat.sum(axis=1)[:, np.newaxis], decimals=2)\n",
    "    con_mat_norm = np.around(100 * con_mat / len(y_test), decimals=3)\n",
    "    con_mat_df = pd.DataFrame(con_mat_norm, index = [i for i in range(0,len(con_mat))], columns = [i for i in range(0,len(con_mat))])\n",
    "    figure = pyplot.figure(figsize=(4, 4))\n",
    "    sns.heatmap(con_mat_df, annot=True, cmap=plt.cm.Blues, square=True, cbar=False, fmt='f')\n",
    "    pyplot.tight_layout()\n",
    "    pyplot.ylabel('True label')\n",
    "    pyplot.xlabel('Predicted label')\n",
    "    pyplot.show()\n",
    "\n",
    "def output(y_pred, threshold=0.5):\n",
    "    if len(y_pred.shape) > 1:\n",
    "        if y_pred.shape[1] > 1:\n",
    "            return [np.argmax(x) for x in y_pred]\n",
    "        else:\n",
    "            return [ 1 if x >= threshold else 0 for x in y_pred ]\n",
    "    else:\n",
    "        return [ 1 if x >= threshold else 0 for x in y_pred ]\n",
    "\n",
    "def accuracy(y_pred, y_test):\n",
    "    acc = np.array([ y_pred[i] == y_test[i] for i in range(0,len(y_test))])\n",
    "    return acc.sum()/len(acc)\n",
    "\n",
    "def labels_up(actuals, y_pred):\n",
    "    assert len(actuals) == len(y_pred)\n",
    "    labels = []\n",
    "    for i in range(len(actuals)):\n",
    "        if y_pred[i] >= actuals[i]['UPPER_LIMIT']:\n",
    "            labels.append(1)\n",
    "        else:\n",
    "            labels.append(0)\n",
    "    return labels\n",
    "\n",
    "def extract_label(y):\n",
    "    labels = []\n",
    "    for x in y:\n",
    "        labels.append(x['LABEL'])\n",
    "    return labels"
   ]
  },
  {
   "cell_type": "markdown",
   "metadata": {},
   "source": [
    "# Revisión del Entrenamiento"
   ]
  },
  {
   "cell_type": "code",
   "execution_count": 4,
   "metadata": {},
   "outputs": [
    {
     "data": {
      "image/png": "[encoded data removed]",
      "text/plain": [
       "<Figure size 432x288 with 1 Axes>"
      ]
     },
     "metadata": {
      "needs_background": "light"
     },
     "output_type": "display_data"
    }
   ],
   "source": [
    "plot_error(pd.read_csv(\"/home/benayas/results/history_lstm_test_all.csv\"))"
   ]
  },
  {
   "cell_type": "code",
   "execution_count": 5,
   "metadata": {},
   "outputs": [
    {
     "data": {
      "image/png": "[encoded data removed]",
      "text/plain": [
       "<Figure size 432x288 with 1 Axes>"
      ]
     },
     "metadata": {
      "needs_background": "light"
     },
     "output_type": "display_data"
    }
   ],
   "source": [
    "plot_error(pd.read_csv(\"/home/benayas/results/history_lstm_test_all_balanced.csv\"))"
   ]
  },
  {
   "cell_type": "markdown",
   "metadata": {},
   "source": [
    "# Test"
   ]
  },
  {
   "cell_type": "code",
   "execution_count": 5,
   "metadata": {},
   "outputs": [],
   "source": [
    "from sklearn.preprocessing import MinMaxScaler\n",
    "look_back = 100\n",
    "forward_days = 30\n",
    "num_periods = 20"
   ]
  },
  {
   "cell_type": "code",
   "execution_count": 6,
   "metadata": {},
   "outputs": [
    {
     "name": "stdout",
     "output_type": "stream",
     "text": [
      "WARNING:tensorflow:From /home/benayas/.local/lib/python3.6/site-packages/tensorflow/python/ops/init_ops.py:97: calling GlorotUniform.__init__ (from tensorflow.python.ops.init_ops) with dtype is deprecated and will be removed in a future version.\n",
      "Instructions for updating:\n",
      "Call initializer instance with the dtype argument instead of passing it to the constructor\n",
      "WARNING:tensorflow:From /home/benayas/.local/lib/python3.6/site-packages/tensorflow/python/ops/init_ops.py:1251: calling VarianceScaling.__init__ (from tensorflow.python.ops.init_ops) with dtype is deprecated and will be removed in a future version.\n",
      "Instructions for updating:\n",
      "Call initializer instance with the dtype argument instead of passing it to the constructor\n",
      "WARNING:tensorflow:From /home/benayas/.local/lib/python3.6/site-packages/tensorflow/python/ops/init_ops.py:97: calling Orthogonal.__init__ (from tensorflow.python.ops.init_ops) with dtype is deprecated and will be removed in a future version.\n",
      "Instructions for updating:\n",
      "Call initializer instance with the dtype argument instead of passing it to the constructor\n",
      "WARNING:tensorflow:From /home/benayas/.local/lib/python3.6/site-packages/tensorflow/python/ops/init_ops.py:97: calling Zeros.__init__ (from tensorflow.python.ops.init_ops) with dtype is deprecated and will be removed in a future version.\n",
      "Instructions for updating:\n",
      "Call initializer instance with the dtype argument instead of passing it to the constructor\n",
      "WARNING:tensorflow:From /home/benayas/.local/lib/python3.6/site-packages/tensorflow/python/ops/math_grad.py:1250: add_dispatch_support.<locals>.wrapper (from tensorflow.python.ops.array_ops) is deprecated and will be removed in a future version.\n",
      "Instructions for updating:\n",
      "Use tf.where in 2.0, which has the same broadcast rule as np.where\n"
     ]
    }
   ],
   "source": [
    "model = load_model(\"/home/benayas/results/best_lstm_test_all_balanced.h5\")"
   ]
  },
  {
   "cell_type": "markdown",
   "metadata": {},
   "source": [
    "## Test en todo el dataset de test"
   ]
  },
  {
   "cell_type": "code",
   "execution_count": 8,
   "metadata": {},
   "outputs": [],
   "source": [
    "df_test = pd.read_feather(\"/home/benayas/datasets/lstm/test/test.feather\")\n",
    "X = []\n",
    "y = []\n",
    "actual_labels = []\n",
    "for s, group in df_test.groupby('SYMBOL'):\n",
    "    X_t, y_t, labels = processData( group, look_back, forward_days, jump=num_periods, scale=False, label=True)\n",
    "    X = X + X_t\n",
    "    y = y + y_t\n",
    "    actual_labels = actual_labels + labels\n",
    "\n",
    "X_test = np.array(X)\n",
    "y_test = np.array(y)"
   ]
  },
  {
   "cell_type": "code",
   "execution_count": 9,
   "metadata": {},
   "outputs": [
    {
     "name": "stdout",
     "output_type": "stream",
     "text": [
      "X shape (47088, 100, 1)\n",
      "Y shape (47088, 30, 1)\n",
      "Labels shape 47088\n"
     ]
    }
   ],
   "source": [
    "print('X shape {0}'.format(X_test.shape))\n",
    "print('Y shape {0}'.format(y_test.shape))\n",
    "print('Labels shape {0}'.format(len(actual_labels)))"
   ]
  },
  {
   "cell_type": "code",
   "execution_count": 10,
   "metadata": {},
   "outputs": [
    {
     "name": "stderr",
     "output_type": "stream",
     "text": [
      "100%|██████████| 47088/47088 [49:17<00:00, 15.92it/s]\n"
     ]
    }
   ],
   "source": [
    "pred_values = []\n",
    "for i in tqdm(range(0,len(X_test))):\n",
    "    scl = MinMaxScaler()\n",
    "    scl.fit(X_test[i])\n",
    "    scl.fit(y_test[i])\n",
    "    d = scl.transform( X_test[i] )\n",
    "    y_pred = model.predict( d.reshape(1,d.shape[0],1) )\n",
    "    y_pred = y_pred.reshape(-1,1)\n",
    "    y_pred = scl.inverse_transform(y_pred.reshape(-1,1))\n",
    "    pred_values.append(y_pred[-1:][0])\n",
    "\n",
    "pred_values = np.array(pred_values)"
   ]
  },
  {
   "cell_type": "code",
   "execution_count": 11,
   "metadata": {},
   "outputs": [
    {
     "data": {
      "text/plain": [
       "(47088, 1)"
      ]
     },
     "execution_count": 11,
     "metadata": {},
     "output_type": "execute_result"
    }
   ],
   "source": [
    "pred_values.shape"
   ]
  },
  {
   "cell_type": "code",
   "execution_count": 12,
   "metadata": {},
   "outputs": [],
   "source": [
    "y_pred = labels_up(actual_labels, pred_values)\n",
    "y_test = extract_label(actual_labels)"
   ]
  },
  {
   "cell_type": "code",
   "execution_count": 13,
   "metadata": {},
   "outputs": [
    {
     "data": {
      "text/plain": [
       "0.9036060142711518"
      ]
     },
     "execution_count": 13,
     "metadata": {},
     "output_type": "execute_result"
    }
   ],
   "source": [
    "accuracy(y_pred, y_test)"
   ]
  },
  {
   "cell_type": "code",
   "execution_count": 14,
   "metadata": {},
   "outputs": [
    {
     "data": {
      "image/png": "[encoded data removed]",
      "text/plain": [
       "<Figure size 288x288 with 1 Axes>"
      ]
     },
     "metadata": {
      "needs_background": "light"
     },
     "output_type": "display_data"
    }
   ],
   "source": [
    "plot_confusion_matrix(y_pred, y_test)"
   ]
  },
  {
   "cell_type": "markdown",
   "metadata": {},
   "source": [
    "## Test en dataset de test balanceado"
   ]
  },
  {
   "cell_type": "code",
   "execution_count": 7,
   "metadata": {},
   "outputs": [],
   "source": [
    "df_test = pd.read_feather(\"/home/benayas/datasets/lstm/test/test.feather\")\n",
    "X = []\n",
    "y = []\n",
    "actual_labels = []\n",
    "for s, group in df_test.groupby('SYMBOL'):\n",
    "    X_t, y_t, labels = processData( group, look_back, forward_days, jump=num_periods, scale=False, label=True)\n",
    "    X = X + X_t\n",
    "    y = y + y_t\n",
    "    actual_labels = actual_labels + labels\n",
    "\n",
    "X_test = np.array(X)\n",
    "y_test = np.array(y)"
   ]
  },
  {
   "cell_type": "code",
   "execution_count": 8,
   "metadata": {},
   "outputs": [
    {
     "name": "stdout",
     "output_type": "stream",
     "text": [
      "X shape (47088, 100, 1)\n",
      "Y shape (47088, 30, 1)\n",
      "Labels shape 47088\n"
     ]
    }
   ],
   "source": [
    "print('X shape {0}'.format(X_test.shape))\n",
    "print('Y shape {0}'.format(y_test.shape))\n",
    "print('Labels shape {0}'.format(len(actual_labels)))"
   ]
  },
  {
   "cell_type": "code",
   "execution_count": 9,
   "metadata": {},
   "outputs": [
    {
     "data": {
      "text/html": [
       "<div>\n",
       "<style scoped>\n",
       "    .dataframe tbody tr th:only-of-type {\n",
       "        vertical-align: middle;\n",
       "    }\n",
       "\n",
       "    .dataframe tbody tr th {\n",
       "        vertical-align: top;\n",
       "    }\n",
       "\n",
       "    .dataframe thead th {\n",
       "        text-align: right;\n",
       "    }\n",
       "</style>\n",
       "<table border=\"1\" class=\"dataframe\">\n",
       "  <thead>\n",
       "    <tr style=\"text-align: right;\">\n",
       "      <th></th>\n",
       "      <th>X</th>\n",
       "      <th>Y</th>\n",
       "      <th>LABEL</th>\n",
       "    </tr>\n",
       "    <tr>\n",
       "      <th>L</th>\n",
       "      <th></th>\n",
       "      <th></th>\n",
       "      <th></th>\n",
       "    </tr>\n",
       "  </thead>\n",
       "  <tbody>\n",
       "    <tr>\n",
       "      <th>0</th>\n",
       "      <td>43711</td>\n",
       "      <td>43711</td>\n",
       "      <td>43711</td>\n",
       "    </tr>\n",
       "    <tr>\n",
       "      <th>1</th>\n",
       "      <td>3377</td>\n",
       "      <td>3377</td>\n",
       "      <td>3377</td>\n",
       "    </tr>\n",
       "  </tbody>\n",
       "</table>\n",
       "</div>"
      ],
      "text/plain": [
       "       X      Y  LABEL\n",
       "L                     \n",
       "0  43711  43711  43711\n",
       "1   3377   3377   3377"
      ]
     },
     "execution_count": 9,
     "metadata": {},
     "output_type": "execute_result"
    }
   ],
   "source": [
    "df_balanceado = pd.DataFrame({'X':X, 'Y':y, 'LABEL':actual_labels})\n",
    "df_balanceado['L'] = df_balanceado['LABEL'].apply(lambda x: x['LABEL'])\n",
    "g = df_balanceado.groupby('L')\n",
    "g.count()"
   ]
  },
  {
   "cell_type": "code",
   "execution_count": 10,
   "metadata": {},
   "outputs": [
    {
     "data": {
      "text/plain": [
       "(6754, 4)"
      ]
     },
     "execution_count": 10,
     "metadata": {},
     "output_type": "execute_result"
    }
   ],
   "source": [
    "g = g.apply(lambda x: x.sample(g.size().min())).reset_index(drop=True)\n",
    "df_balanceado = g.sample(frac=1).reset_index(drop=True)\n",
    "df_balanceado.shape"
   ]
  },
  {
   "cell_type": "code",
   "execution_count": 11,
   "metadata": {},
   "outputs": [
    {
     "name": "stdout",
     "output_type": "stream",
     "text": [
      "X shape (6754, 100, 1)\n",
      "Y shape (6754, 30, 1)\n",
      "Labels shape (6754,)\n"
     ]
    }
   ],
   "source": [
    "X_test = np.array([a for a in df_balanceado['X'].values])\n",
    "y_test = np.array([a for a in df_balanceado['Y'].values])\n",
    "y_test = np.array([list(a.ravel()) for a in y_test])\n",
    "y_test = y_test.reshape(y_test.shape[0], y_test.shape[1], 1)\n",
    "actual_labels = df_balanceado['LABEL'].values\n",
    "print('X shape {0}'.format(X_test.shape))\n",
    "print('Y shape {0}'.format(y_test.shape))\n",
    "print('Labels shape {0}'.format(actual_labels.shape))"
   ]
  },
  {
   "cell_type": "code",
   "execution_count": 12,
   "metadata": {},
   "outputs": [
    {
     "name": "stderr",
     "output_type": "stream",
     "text": [
      "100%|██████████| 6754/6754 [06:51<00:00, 16.43it/s]\n"
     ]
    }
   ],
   "source": [
    "pred_values = []\n",
    "for i in tqdm(range(0,len(X_test))):\n",
    "    scl = MinMaxScaler()\n",
    "    scl.fit(X_test[i])\n",
    "    scl.fit(y_test[i])\n",
    "    d = scl.transform( X_test[i] )\n",
    "    y_pred = model.predict( d.reshape(1,d.shape[0],1) )\n",
    "    y_pred = y_pred.reshape(-1,1)\n",
    "    y_pred = scl.inverse_transform(y_pred.reshape(-1,1))\n",
    "    pred_values.append(y_pred[-1:][0])\n",
    "\n",
    "pred_values = np.array(pred_values)"
   ]
  },
  {
   "cell_type": "code",
   "execution_count": 13,
   "metadata": {},
   "outputs": [
    {
     "data": {
      "text/plain": [
       "(6754, 1)"
      ]
     },
     "execution_count": 13,
     "metadata": {},
     "output_type": "execute_result"
    }
   ],
   "source": [
    "pred_values.shape"
   ]
  },
  {
   "cell_type": "code",
   "execution_count": 14,
   "metadata": {},
   "outputs": [],
   "source": [
    "y_pred = labels_up(actual_labels, pred_values)\n",
    "y_test = extract_label(actual_labels)"
   ]
  },
  {
   "cell_type": "code",
   "execution_count": 15,
   "metadata": {},
   "outputs": [
    {
     "data": {
      "text/plain": [
       "0.48785904649096834"
      ]
     },
     "execution_count": 15,
     "metadata": {},
     "output_type": "execute_result"
    }
   ],
   "source": [
    "accuracy(y_pred, y_test)"
   ]
  },
  {
   "cell_type": "code",
   "execution_count": 16,
   "metadata": {},
   "outputs": [
    {
     "data": {
      "image/png": "[encoded data removed]",
      "text/plain": [
       "<Figure size 288x288 with 1 Axes>"
      ]
     },
     "metadata": {
      "needs_background": "light"
     },
     "output_type": "display_data"
    }
   ],
   "source": [
    "plot_confusion_matrix(y_pred, y_test)"
   ]
  },
  {
   "cell_type": "code",
   "execution_count": null,
   "metadata": {},
   "outputs": [],
   "source": []
  }
 ],
 "metadata": {
  "kernelspec": {
   "display_name": "Python 3",
   "language": "python",
   "name": "python3"
  },
  "language_info": {
   "codemirror_mode": {
    "name": "ipython",
    "version": 3
   },
   "file_extension": ".py",
   "mimetype": "text/x-python",
   "name": "python",
   "nbconvert_exporter": "python",
   "pygments_lexer": "ipython3",
   "version": "3.6.8"
  }
 },
 "nbformat": 4,
 "nbformat_minor": 4
}
